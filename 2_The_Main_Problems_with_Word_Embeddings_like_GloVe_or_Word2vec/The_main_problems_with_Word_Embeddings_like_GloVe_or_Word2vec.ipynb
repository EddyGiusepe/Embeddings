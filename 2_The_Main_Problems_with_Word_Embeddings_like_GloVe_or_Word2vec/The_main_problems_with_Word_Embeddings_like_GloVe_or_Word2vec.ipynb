{
 "cells": [
  {
   "attachments": {},
   "cell_type": "markdown",
   "metadata": {},
   "source": [
    "<h1 align=\"center\">What Are The Main Problems With Word Embeddings Like GloVe or Word2vec?</h1>"
   ]
  },
  {
   "attachments": {},
   "cell_type": "markdown",
   "metadata": {},
   "source": [
    "Data Scientist.: Dr.Eddy Giusepe Chirinos Isidro"
   ]
  },
  {
   "attachments": {},
   "cell_type": "markdown",
   "metadata": {},
   "source": [
    "Aqui vamos a entender mais um pouco sobre os `Embeddings de palavras` e os modelos `GloVe` ou `w2v`. Vamos aprender, também, tal como o título fala sobre quais são os problemas nestes modelos.\n",
    "\n",
    "Começamos a seguir!!!"
   ]
  },
  {
   "attachments": {},
   "cell_type": "markdown",
   "metadata": {},
   "source": [
    "Uma das principais limitações dos `Embeddings` de palavras é que palavras com múltiplos significados são combinadas em uma única representação (`um único vetor no espaço semântico`). Em outras palavras, a polissemia e a homonímia não são tratadas adequadamente.\n"
   ]
  },
  {
   "cell_type": "markdown",
   "metadata": {},
   "source": []
  },
  {
   "cell_type": "code",
   "execution_count": null,
   "metadata": {},
   "outputs": [],
   "source": []
  },
  {
   "cell_type": "code",
   "execution_count": null,
   "metadata": {},
   "outputs": [],
   "source": []
  }
 ],
 "metadata": {
  "kernelspec": {
   "display_name": "venv_embeddings",
   "language": "python",
   "name": "python3"
  },
  "language_info": {
   "codemirror_mode": {
    "name": "ipython",
    "version": 3
   },
   "file_extension": ".py",
   "mimetype": "text/x-python",
   "name": "python",
   "nbconvert_exporter": "python",
   "pygments_lexer": "ipython3",
   "version": "3.10.6"
  },
  "orig_nbformat": 4,
  "vscode": {
   "interpreter": {
    "hash": "edf6b0502c5e0317890cf8e032bc40a2d819416c0ad8d6668597893c0d15cade"
   }
  }
 },
 "nbformat": 4,
 "nbformat_minor": 2
}
