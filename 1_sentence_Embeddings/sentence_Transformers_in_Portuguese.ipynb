{
  "cells": [
    {
      "cell_type": "markdown",
      "metadata": {
        "id": "ZwNHpRWKu0NM"
      },
      "source": [
        "<h1 align=\"center\">Sentence Transformers: Sentence Embedding, Sentence Similarity, Semantic Search and Clustering |Code</h1>"
      ]
    },
    {
      "cell_type": "markdown",
      "metadata": {
        "id": "9SLg9QqUu0NQ"
      },
      "source": [
        "Data Scientist.: Dr.Eddy Giusepe Chirinos Isidro"
      ]
    },
    {
      "cell_type": "markdown",
      "metadata": {
        "id": "39SWT-9Qu0NQ"
      },
      "source": [
        "Links de estudos:\n",
        "\n",
        "* [semantic-similarity](https://github.com/abhinavthomas/semantic-similarity)\n",
        "\n",
        "* [Sentence Transformers](https://www.youtube.com/watch?v=OlhNZg4gOvA)\n"
      ]
    },
    {
      "cell_type": "markdown",
      "metadata": {
        "id": "rU3L4QORu0NR"
      },
      "source": [
        "# Sentence Embeddings"
      ]
    },
    {
      "cell_type": "markdown",
      "metadata": {
        "id": "rBFcANQIu0NR"
      },
      "source": [
        "<font color=\"orange\">É o nome coletivo para um conjunto de técnicas em processamento de linguagem natural (NLP) onde as sentenças são mapeadas para vetores de números reais .</font>\n",
        "\n",
        "Casos de uso:\n",
        "\n",
        "* Sentence Embedding\n",
        "\n",
        "* Sentence Similarity\n",
        "\n",
        "* Semantic Search\n",
        "\n",
        "* Clustering"
      ]
    },
    {
      "cell_type": "code",
      "source": [
        "from google.colab import drive\n",
        "drive.mount('/content/drive')"
      ],
      "metadata": {
        "colab": {
          "base_uri": "https://localhost:8080/"
        },
        "id": "beATLXK9vRQd",
        "outputId": "fbf34f30-dbf1-4437-d759-6c384e3c30a7"
      },
      "execution_count": 1,
      "outputs": [
        {
          "output_type": "stream",
          "name": "stdout",
          "text": [
            "Mounted at /content/drive\n"
          ]
        }
      ]
    },
    {
      "cell_type": "markdown",
      "metadata": {
        "id": "dlWZz8fRu0NS"
      },
      "source": [
        "# Gerando Embeddings"
      ]
    },
    {
      "cell_type": "code",
      "source": [
        "!pip install -U sentence-transformers"
      ],
      "metadata": {
        "id": "ljUq2fHkvqds"
      },
      "execution_count": null,
      "outputs": []
    },
    {
      "cell_type": "code",
      "execution_count": null,
      "metadata": {
        "id": "_IxHFbR6u0NS"
      },
      "outputs": [],
      "source": [
        "#!pip install -U sentence-transformers\n",
        "from sentence_transformers import SentenceTransformer, util\n",
        "\n",
        "# Carregamos o Modelo pré-treinado ---> https://huggingface.co/sentence-transformers/all-MiniLM-L6-v2\n",
        "model = SentenceTransformer('neuralmind/bert-large-portuguese-cased') # 'all-MiniLM-L6-v2'  <--- Modelo HF\n"
      ]
    },
    {
      "cell_type": "markdown",
      "source": [
        "`all-MiniLM-L6-v2` --> Este é um modelo de Transformers de sentença : ele mapeia sentenças e parágrafos para um espaço vetorial denso de `384` dimensões e pode ser usado para tarefas como agrupamento ou pesquisa semântica."
      ],
      "metadata": {
        "id": "H1PFUhIGjpY4"
      }
    },
    {
      "cell_type": "code",
      "execution_count": 46,
      "metadata": {
        "colab": {
          "base_uri": "https://localhost:8080/"
        },
        "id": "hB_CSplju0NU",
        "outputId": "df25f58e-8aa3-44b3-dc02-769c1894e382"
      },
      "outputs": [
        {
          "output_type": "execute_result",
          "data": {
            "text/plain": [
              "SentenceTransformer(\n",
              "  (0): Transformer({'max_seq_length': 512, 'do_lower_case': False}) with Transformer model: BertModel \n",
              "  (1): Pooling({'word_embedding_dimension': 1024, 'pooling_mode_cls_token': False, 'pooling_mode_mean_tokens': True, 'pooling_mode_max_tokens': False, 'pooling_mode_mean_sqrt_len_tokens': False})\n",
              ")"
            ]
          },
          "metadata": {},
          "execution_count": 46
        }
      ],
      "source": [
        "model"
      ]
    },
    {
      "cell_type": "code",
      "execution_count": 47,
      "metadata": {
        "id": "aP-lOHH2u0NV"
      },
      "outputs": [],
      "source": [
        "sentences = ['Esta framework gera embeddings para cada sentença de entrada.',\n",
        "             'As sentenças são passadas como uma lista de strings.']\n",
        "\n",
        "\n",
        "embeddings = model.encode(sentences)"
      ]
    },
    {
      "cell_type": "code",
      "execution_count": 48,
      "metadata": {
        "colab": {
          "base_uri": "https://localhost:8080/"
        },
        "id": "XX3kuLJcu0NV",
        "outputId": "ac2ab675-e5dd-4f0a-e360-107695874034"
      },
      "outputs": [
        {
          "output_type": "execute_result",
          "data": {
            "text/plain": [
              "(2, 1024)"
            ]
          },
          "metadata": {},
          "execution_count": 48
        }
      ],
      "source": [
        "embeddings.shape"
      ]
    },
    {
      "cell_type": "code",
      "execution_count": 49,
      "metadata": {
        "id": "X12jaG3cu0NV",
        "colab": {
          "base_uri": "https://localhost:8080/"
        },
        "outputId": "85c9d84c-f96f-46f6-8a26-2f83523925b2"
      },
      "outputs": [
        {
          "output_type": "stream",
          "name": "stdout",
          "text": [
            "Sentence: Esta framework gera embeddings para cada sentença de entrada.\n",
            "Embedding: [ 0.39161238  0.29235005 -0.20401621 ... -0.058189   -0.6304526\n",
            "  0.33865196]\n",
            "\n",
            "Sentence: As sentenças são passadas como uma lista de strings.\n",
            "Embedding: [ 0.7589692   0.5428759  -0.5708151  ...  0.23309363 -0.4231845\n",
            "  0.03938337]\n",
            "\n"
          ]
        }
      ],
      "source": [
        "for sentence, embedding in zip(sentences, embeddings):\n",
        "    print(\"Sentence:\", sentence)\n",
        "    print(\"Embedding:\", embedding)\n",
        "    print(\"\")\n"
      ]
    },
    {
      "cell_type": "markdown",
      "metadata": {
        "id": "XznTa-MUu0NW"
      },
      "source": [
        "# Cosine-Similarity"
      ]
    },
    {
      "cell_type": "code",
      "execution_count": 50,
      "metadata": {
        "colab": {
          "base_uri": "https://localhost:8080/"
        },
        "id": "rA7_UIB8u0NW",
        "outputId": "66a04c01-8c6d-413b-c7b8-ea91872531bf"
      },
      "outputs": [
        {
          "output_type": "stream",
          "name": "stdout",
          "text": [
            "Cosine-Similarity: tensor([[0.8574]])\n"
          ]
        }
      ],
      "source": [
        "emb1 = model.encode(\"Eu estou comendo maçã.\")\n",
        "emb2 = model.encode(\"Eu gosto de frutas.\")\n",
        "\n",
        "cos_sim = util.cos_sim(emb1, emb2)\n",
        "print(\"Cosine-Similarity:\", cos_sim)"
      ]
    },
    {
      "cell_type": "markdown",
      "metadata": {
        "id": "KU2_ACrJu0NW"
      },
      "source": [
        "## Calcula a `similaridade de cosseno` entre todos os pares"
      ]
    },
    {
      "cell_type": "markdown",
      "metadata": {
        "id": "gvoAykZgu0NW"
      },
      "source": [
        "<font color=\"orange\">Repara que a seguir comparamos as similaridade entre cada sentença. </font>\n",
        "\n",
        "Por exemplo:\n",
        "\n",
        "$[1.0000,  0.7553, -0.1050,  0.2474, -0.0704, -0.0333,  0.1707,  0.0476,\n",
        "          0.0630]$\n",
        "\n",
        "Se compara assim: 1_senteça-1_sentença = 1.0000 | 1_senteça-2_sentença = 0.7553 | 1_senteça-3_sentença = -0.1050 | 1_senteça-4_sentença | ...            "
      ]
    },
    {
      "cell_type": "code",
      "execution_count": 51,
      "metadata": {
        "colab": {
          "base_uri": "https://localhost:8080/"
        },
        "id": "H4k_IYHfu0NW",
        "outputId": "a77d6476-9297-41a2-b2d6-2c5d87980a1f"
      },
      "outputs": [
        {
          "output_type": "execute_result",
          "data": {
            "text/plain": [
              "tensor([[1.0000, 0.9389, 0.8362, 0.8468, 0.8045, 0.7375, 0.8408, 0.8608, 0.8190],\n",
              "        [0.9389, 1.0000, 0.8159, 0.8415, 0.7828, 0.7183, 0.8358, 0.8249, 0.7913],\n",
              "        [0.8362, 0.8159, 1.0000, 0.7969, 0.7834, 0.6963, 0.8039, 0.8241, 0.8036],\n",
              "        [0.8468, 0.8415, 0.7969, 1.0000, 0.8024, 0.7509, 0.9367, 0.8450, 0.8030],\n",
              "        [0.8045, 0.7828, 0.7834, 0.8024, 1.0000, 0.6655, 0.7804, 0.8428, 0.8258],\n",
              "        [0.7375, 0.7183, 0.6963, 0.7509, 0.6655, 1.0000, 0.7964, 0.7513, 0.7376],\n",
              "        [0.8408, 0.8358, 0.8039, 0.9367, 0.7804, 0.7964, 1.0000, 0.8625, 0.8258],\n",
              "        [0.8608, 0.8249, 0.8241, 0.8450, 0.8428, 0.7513, 0.8625, 1.0000, 0.9015],\n",
              "        [0.8190, 0.7913, 0.8036, 0.8030, 0.8258, 0.7376, 0.8258, 0.9015, 1.0000]])"
            ]
          },
          "metadata": {},
          "execution_count": 51
        }
      ],
      "source": [
        "# Compute cosine similarity between all pairs\n",
        "sentences = ['Um homem está comendo comida.',\n",
        "          'Um homem está comendo um pedaço de pão.',\n",
        "          'A menina está carregando um bebê.',\n",
        "          'Um homem está montando um cavalo.',\n",
        "          'Uma mulher está tocando violino.',\n",
        "          'Dois homens empurravam carroças pela mata.',\n",
        "          'Um homem está montando um cavalo branco em um terreno fechado.',\n",
        "          'Um macaco está tocando bateria.',\n",
        "          'Alguém fantasiado de gorila está tocando bateria.'\n",
        "          ]\n",
        "\n",
        "# Codificamos (Encode) todas as sentences\n",
        "embeddings = model.encode(sentences)\n",
        "\n",
        "# Compute cosine similarity between all pairs\n",
        "cos_sim = util.cos_sim(embeddings, embeddings)\n",
        "\n",
        "cos_sim"
      ]
    },
    {
      "cell_type": "code",
      "execution_count": 52,
      "metadata": {
        "colab": {
          "base_uri": "https://localhost:8080/"
        },
        "id": "qIwNM4bXu0NX",
        "outputId": "00847048-e3d9-4eef-c158-69ac94fafb06"
      },
      "outputs": [
        {
          "output_type": "execute_result",
          "data": {
            "text/plain": [
              "[(tensor(0.9389), 0, 1),\n",
              " (tensor(0.8362), 0, 2),\n",
              " (tensor(0.8468), 0, 3),\n",
              " (tensor(0.8045), 0, 4),\n",
              " (tensor(0.7375), 0, 5),\n",
              " (tensor(0.8408), 0, 6),\n",
              " (tensor(0.8608), 0, 7),\n",
              " (tensor(0.8190), 0, 8),\n",
              " (tensor(0.8159), 1, 2),\n",
              " (tensor(0.8415), 1, 3),\n",
              " (tensor(0.7828), 1, 4),\n",
              " (tensor(0.7183), 1, 5),\n",
              " (tensor(0.8358), 1, 6),\n",
              " (tensor(0.8249), 1, 7),\n",
              " (tensor(0.7913), 1, 8),\n",
              " (tensor(0.7969), 2, 3),\n",
              " (tensor(0.7834), 2, 4),\n",
              " (tensor(0.6963), 2, 5),\n",
              " (tensor(0.8039), 2, 6),\n",
              " (tensor(0.8241), 2, 7),\n",
              " (tensor(0.8036), 2, 8),\n",
              " (tensor(0.8024), 3, 4),\n",
              " (tensor(0.7509), 3, 5),\n",
              " (tensor(0.9367), 3, 6),\n",
              " (tensor(0.8450), 3, 7),\n",
              " (tensor(0.8030), 3, 8),\n",
              " (tensor(0.6655), 4, 5),\n",
              " (tensor(0.7804), 4, 6),\n",
              " (tensor(0.8428), 4, 7),\n",
              " (tensor(0.8258), 4, 8),\n",
              " (tensor(0.7964), 5, 6),\n",
              " (tensor(0.7513), 5, 7),\n",
              " (tensor(0.7376), 5, 8),\n",
              " (tensor(0.8625), 6, 7),\n",
              " (tensor(0.8258), 6, 8),\n",
              " (tensor(0.9015), 7, 8)]"
            ]
          },
          "metadata": {},
          "execution_count": 52
        }
      ],
      "source": [
        "# Adicionamos todos os pares a uma lista com sua pontuação de similaridade de cosseno\n",
        "all_sentence_combinations = []\n",
        "\n",
        "for i in range(len(cos_sim)-1):\n",
        "    for j in range(i + 1, len(cos_sim)):\n",
        "        all_sentence_combinations.append((cos_sim[i][j], i, j))\n",
        "all_sentence_combinations       \n"
      ]
    },
    {
      "cell_type": "code",
      "execution_count": 53,
      "metadata": {
        "colab": {
          "base_uri": "https://localhost:8080/"
        },
        "id": "EVmYmo_Gu0NX",
        "outputId": "9d78977c-871e-4143-f99a-091cbe616049"
      },
      "outputs": [
        {
          "output_type": "stream",
          "name": "stdout",
          "text": [
            "Os 5 pares mais semelhantes: \n",
            "Um homem está comendo comida. \t Um homem está comendo um pedaço de pão. \t 0.9389\n",
            "Um homem está montando um cavalo. \t Um homem está montando um cavalo branco em um terreno fechado. \t 0.9367\n",
            "Um macaco está tocando bateria. \t Alguém fantasiado de gorila está tocando bateria. \t 0.9015\n",
            "Um homem está montando um cavalo branco em um terreno fechado. \t Um macaco está tocando bateria. \t 0.8625\n",
            "Um homem está comendo comida. \t Um macaco está tocando bateria. \t 0.8608\n"
          ]
        }
      ],
      "source": [
        "# Lista de classificação pela maior pontuação de similaridade de cosseno\n",
        "all_sentence_combinations = sorted(all_sentence_combinations, key=lambda x: x[0], reverse=True)\n",
        "\n",
        "print(\"Os 5 pares mais semelhantes: \")\n",
        "for score, i, j in all_sentence_combinations[0: 5]:\n",
        "    print(\"{} \\t {} \\t {:.4f}\".format(sentences[i], sentences[j], cos_sim[i][j]))\n",
        "    "
      ]
    },
    {
      "cell_type": "markdown",
      "metadata": {
        "id": "zvevCD-tu0NX"
      },
      "source": [
        "# Pesquisa Semântica"
      ]
    },
    {
      "cell_type": "markdown",
      "metadata": {
        "id": "-XuYQlpMu0NX"
      },
      "source": [
        "<font color=\"orange\">A pesquisa semântica denota a pesquisa com significado, diferente da `pesquisa lexical`, na qual o mecanismo de pesquisa procura correspondências literais das palavras de consulta ou variantes delas, sem entender o significado geral da consulta.</font>\n",
        "\n",
        "\n",
        "\n",
        "Entãop, a `pesquisa semântica` descreve a tentativa de um mecanismo de pesquisa de gerar os resultados SERP (`Search Engine Results Page`) mais precisos possíveis, com base na intenção do pesquisador, no contexto da consulta e na relação entre as palavras . Isso é importante porque: As pessoas dizem coisas e questionam coisas de diferentes maneiras, idiomas e tons."
      ]
    },
    {
      "cell_type": "code",
      "execution_count": 54,
      "metadata": {
        "id": "GcfQi9yOu0NX",
        "colab": {
          "base_uri": "https://localhost:8080/"
        },
        "outputId": "3380770c-fd0b-47af-dc78-2dc44091167b"
      },
      "outputs": [
        {
          "output_type": "stream",
          "name": "stderr",
          "text": [
            "WARNING:sentence_transformers.SentenceTransformer:No sentence-transformers model found with name /root/.cache/torch/sentence_transformers/neuralmind_bert-large-portuguese-cased. Creating a new one with MEAN pooling.\n",
            "Some weights of the model checkpoint at /root/.cache/torch/sentence_transformers/neuralmind_bert-large-portuguese-cased were not used when initializing BertModel: ['cls.seq_relationship.bias', 'cls.seq_relationship.weight', 'cls.predictions.transform.LayerNorm.bias', 'cls.predictions.transform.dense.weight', 'cls.predictions.bias', 'cls.predictions.transform.dense.bias', 'cls.predictions.transform.LayerNorm.weight', 'cls.predictions.decoder.weight']\n",
            "- This IS expected if you are initializing BertModel from the checkpoint of a model trained on another task or with another architecture (e.g. initializing a BertForSequenceClassification model from a BertForPreTraining model).\n",
            "- This IS NOT expected if you are initializing BertModel from the checkpoint of a model that you expect to be exactly identical (initializing a BertForSequenceClassification model from a BertForSequenceClassification model).\n"
          ]
        }
      ],
      "source": [
        "from sentence_transformers import SentenceTransformer, util\n",
        "\n",
        "model = SentenceTransformer('neuralmind/bert-large-portuguese-cased') # 'clips/mfaq'   |  Modelo pré-treinado do HuggingFace --> https://huggingface.co/clips/mfaq\n"
      ]
    },
    {
      "cell_type": "markdown",
      "source": [
        "<font color=\"orange\">`MFAQ` é um modelo de recuperação de FAQ multilíngue treinado no conjunto de dados MFAQ , que classifica as respostas dos candidatos de acordo com uma determinada pergunta.</font>\n",
        "\n",
        "\n",
        "<font color=\"orange\">Você pode usar o MFAQ com `Transformers` de sentença ou diretamente com um modelo HuggingFace. Em ambos os casos, as perguntas precisam ser precedidas por `<Q>`, e as respostas por `<A>`.</font>"
      ],
      "metadata": {
        "id": "XnRcFP7Byp6S"
      }
    },
    {
      "cell_type": "code",
      "execution_count": 55,
      "metadata": {
        "colab": {
          "base_uri": "https://localhost:8080/"
        },
        "id": "TCFo9mBPu0NY",
        "outputId": "e2066568-b38e-4896-c6b9-1f76c995e74d"
      },
      "outputs": [
        {
          "output_type": "stream",
          "name": "stdout",
          "text": [
            "[[{'corpus_id': 1, 'score': 0.862855076789856}, {'corpus_id': 0, 'score': 0.8545333743095398}, {'corpus_id': 2, 'score': 0.8511956334114075}]]\n"
          ]
        }
      ],
      "source": [
        "question = \"<Q>Quantos modelos posso hospedar no HuggingFace?\"\n",
        "\n",
        "answer_1 = \"<A>Todos os planos vêm com modelos e conjuntos de dados privados ilimitados.\"\n",
        "answer_2 = \"<A>O AutoNLP é uma maneira automática de treinar e implantar modelos de PNL de última geração, perfeitamente integrados ao ecossistema Hugging Face.\"\n",
        "answer_3 = \"<A>Com base na quantidade de dados de treinamento e variantes de modelo criados, enviamos a você um custo de computação e um link de pagamento - tão baixo quanto $10 por trabalho.\"\n",
        "\n",
        "\n",
        "query_embedding = model.encode(question)\n",
        "corpus_embeddings = model.encode([answer_1, answer_2, answer_3])\n",
        "\n",
        "\n",
        "print(util.semantic_search(query_embedding, corpus_embeddings))\n"
      ]
    },
    {
      "cell_type": "markdown",
      "source": [
        "<font color=\"orange\">Outro exemplo a seguir seria obter a resposta em si. Por isso devemos ter bem claro os conceitos de que uma coisa é a pesquisa semântica e outra coisa é encontrar a resposta dentro do texto mesmo (o qual é a resposta mesmo). Vejamos o exemplo a seguir:</font>"
      ],
      "metadata": {
        "id": "-7A7s7uU2ELo"
      }
    },
    {
      "cell_type": "code",
      "execution_count": 56,
      "metadata": {
        "colab": {
          "base_uri": "https://localhost:8080/"
        },
        "id": "RelQ94PGu0NY",
        "outputId": "d12a6d83-a9f5-4ec1-d81a-ccd98e19b507"
      },
      "outputs": [
        {
          "output_type": "stream",
          "name": "stderr",
          "text": [
            "No model was supplied, defaulted to distilbert-base-cased-distilled-squad and revision 626af31 (https://huggingface.co/distilbert-base-cased-distilled-squad).\n",
            "Using a pipeline without specifying a model name and revision in production is not recommended.\n"
          ]
        }
      ],
      "source": [
        "# Ver o seguinte Link do HuggingFace ---> https://huggingface.co/tasks/question-answering\n",
        "\n",
        "from transformers import pipeline\n",
        "\n",
        "\n",
        "qa_model = pipeline(\"question-answering\")\n",
        "\n",
        "question = \"Eddy, onde você estudo?\"\n",
        "context = \"Olá, eu sou Cientista de Dados e trabalho numa empresa de Tecnologia. Eu estudei na UFES de Vitória.\"\n"
      ]
    },
    {
      "cell_type": "code",
      "source": [
        "qa_model(question = question, context = context)\n"
      ],
      "metadata": {
        "colab": {
          "base_uri": "https://localhost:8080/"
        },
        "id": "UoE1Y-o23QtQ",
        "outputId": "8e86af7e-7c8a-4178-dd97-59b4c556044d"
      },
      "execution_count": 57,
      "outputs": [
        {
          "output_type": "execute_result",
          "data": {
            "text/plain": [
              "{'score': 0.15398772060871124,\n",
              " 'start': 70,\n",
              " 'end': 99,\n",
              " 'answer': 'Eu estudei na UFES de Vitória'}"
            ]
          },
          "metadata": {},
          "execution_count": 57
        }
      ]
    },
    {
      "cell_type": "markdown",
      "source": [
        "<font color=\"pink\">A pesquisa semântica me ajuda a restringuir muitos docuemtnso e não ter que procurar a resposta em todos os documentos. Vejamos o uso deste `pipeline` aplicado a nosso exemplo anterior:</font>"
      ],
      "metadata": {
        "id": "YUPgMdSo3-Yd"
      }
    },
    {
      "cell_type": "code",
      "source": [
        "from transformers import pipeline\n",
        "\n",
        "\n",
        "qa_model = pipeline(\"question-answering\")\n",
        "\n",
        "\n",
        "question = \"Quantos modelos posso hospedar no HuggingFace?\"\n",
        "context = \"Todos os planos vêm com modelos e conjuntos de dados privados ilimitados.\"\n",
        "\n",
        "\n",
        "qa_model(question = question, context = context)"
      ],
      "metadata": {
        "colab": {
          "base_uri": "https://localhost:8080/"
        },
        "id": "XTqg5KK64aig",
        "outputId": "e4adfe5a-00b5-4bf1-ee33-f0cec730e32c"
      },
      "execution_count": 60,
      "outputs": [
        {
          "output_type": "stream",
          "name": "stderr",
          "text": [
            "No model was supplied, defaulted to distilbert-base-cased-distilled-squad and revision 626af31 (https://huggingface.co/distilbert-base-cased-distilled-squad).\n",
            "Using a pipeline without specifying a model name and revision in production is not recommended.\n"
          ]
        },
        {
          "output_type": "execute_result",
          "data": {
            "text/plain": [
              "{'score': 0.037184614688158035,\n",
              " 'start': 47,\n",
              " 'end': 72,\n",
              " 'answer': 'dados privados ilimitados'}"
            ]
          },
          "metadata": {},
          "execution_count": 60
        }
      ]
    },
    {
      "cell_type": "markdown",
      "source": [
        "# Clustering"
      ],
      "metadata": {
        "id": "RWvcUQRo3l9U"
      }
    },
    {
      "cell_type": "code",
      "source": [
        "from sklearn.cluster import KMeans\n",
        "import numpy as np\n",
        "\n",
        "\n",
        "embedder = SentenceTransformer('neuralmind/bert-large-portuguese-cased') # 'all-MiniLM-L6-v2'\n",
        "\n",
        "\n",
        "# Corpus com frases de exemplo\n",
        "corpus = ['Um homem está comendo comida.',\n",
        "          'Um homem está comendo um pedaço de pão.',\n",
        "          'O cavalo está comendo grama.',\n",
        "          'Um homem está comendo macarrão.',\n",
        "          'Uma mulher está comendo Arroz indiano.',\n",
        "          'A menina está carregando um bebê.',\n",
        "          'O bebê é carregado pela mulher.',\n",
        "          'Um homem está montando um cavalo.',\n",
        "          'Um homem está montando um cavalo branco em um terreno fechado.',\n",
        "          'Um macaco está tocando bateria.',\n",
        "          'Alguém fantasiado de gorila está tocando bateria.',\n",
        "          'Uma chita está correndo atrás de sua presa.',\n",
        "          'Uma chita persegue a presa através de um campo.',\n",
        "          'A chita está perseguindo um homem que está montando o cavalo.',\n",
        "          'Homem e mulher com seu bebê estão assistindo a um guepardo no zoológico.'\n",
        "          ]\n",
        "\n",
        "\n",
        "corpus_embeddings = embedder.encode(corpus)\n",
        "\n",
        "# Normalize as incorporações para o comprimento da unidade\n",
        "corpus_embeddings = corpus_embeddings /  np.linalg.norm(corpus_embeddings, axis=1, keepdims=True)\n",
        " "
      ],
      "metadata": {
        "id": "1pvEYGq63gjG",
        "colab": {
          "base_uri": "https://localhost:8080/"
        },
        "outputId": "d1c28e7d-d84a-4468-a57f-9f92104003c8"
      },
      "execution_count": 61,
      "outputs": [
        {
          "output_type": "stream",
          "name": "stderr",
          "text": [
            "WARNING:sentence_transformers.SentenceTransformer:No sentence-transformers model found with name /root/.cache/torch/sentence_transformers/neuralmind_bert-large-portuguese-cased. Creating a new one with MEAN pooling.\n",
            "Some weights of the model checkpoint at /root/.cache/torch/sentence_transformers/neuralmind_bert-large-portuguese-cased were not used when initializing BertModel: ['cls.seq_relationship.bias', 'cls.seq_relationship.weight', 'cls.predictions.transform.LayerNorm.bias', 'cls.predictions.transform.dense.weight', 'cls.predictions.bias', 'cls.predictions.transform.dense.bias', 'cls.predictions.transform.LayerNorm.weight', 'cls.predictions.decoder.weight']\n",
            "- This IS expected if you are initializing BertModel from the checkpoint of a model trained on another task or with another architecture (e.g. initializing a BertForSequenceClassification model from a BertForPreTraining model).\n",
            "- This IS NOT expected if you are initializing BertModel from the checkpoint of a model that you expect to be exactly identical (initializing a BertForSequenceClassification model from a BertForSequenceClassification model).\n"
          ]
        }
      ]
    },
    {
      "cell_type": "code",
      "source": [
        "len(corpus_embeddings[0])\n"
      ],
      "metadata": {
        "colab": {
          "base_uri": "https://localhost:8080/"
        },
        "id": "BV4CBvLk5xbV",
        "outputId": "0e9a35ab-ea1c-4681-dd0e-f4acfb21204a"
      },
      "execution_count": 62,
      "outputs": [
        {
          "output_type": "execute_result",
          "data": {
            "text/plain": [
              "1024"
            ]
          },
          "metadata": {},
          "execution_count": 62
        }
      ]
    },
    {
      "cell_type": "code",
      "source": [
        "len(corpus_embeddings[1])"
      ],
      "metadata": {
        "colab": {
          "base_uri": "https://localhost:8080/"
        },
        "id": "upi84R5g50h7",
        "outputId": "2b563c9c-f426-4e97-a2b8-78a24ded32bf"
      },
      "execution_count": 63,
      "outputs": [
        {
          "output_type": "execute_result",
          "data": {
            "text/plain": [
              "1024"
            ]
          },
          "metadata": {},
          "execution_count": 63
        }
      ]
    },
    {
      "cell_type": "code",
      "source": [
        "!pip install kneed"
      ],
      "metadata": {
        "id": "mYJGTDy_fTfo",
        "colab": {
          "base_uri": "https://localhost:8080/"
        },
        "outputId": "95379a47-3fa2-4795-87ad-9f8f5fb9509a"
      },
      "execution_count": 64,
      "outputs": [
        {
          "output_type": "stream",
          "name": "stdout",
          "text": [
            "Looking in indexes: https://pypi.org/simple, https://us-python.pkg.dev/colab-wheels/public/simple/\n",
            "Requirement already satisfied: kneed in /usr/local/lib/python3.8/dist-packages (0.8.2)\n",
            "Requirement already satisfied: scipy>=1.0.0 in /usr/local/lib/python3.8/dist-packages (from kneed) (1.7.3)\n",
            "Requirement already satisfied: numpy>=1.14.2 in /usr/local/lib/python3.8/dist-packages (from kneed) (1.22.4)\n"
          ]
        }
      ]
    },
    {
      "cell_type": "code",
      "source": [
        "from sklearn.cluster import KMeans\n",
        "import matplotlib.pyplot as plt\n",
        "\n",
        "from kneed import KneeLocator\n",
        "\n",
        "# Seus dados\n",
        "X = corpus_embeddings\n",
        "\n",
        "# Lista para armazenar valores de WCSS para cada k\n",
        "wcss = []\n",
        "\n",
        "# Iterar para diferentes valores de k\n",
        "for k in range(1, 10):\n",
        "    # Ajustar o modelo KMeans com k clusters\n",
        "    kmeans = KMeans(n_clusters=k,  init='k-means++', max_iter=300, tol=1e-4, n_init=30, algorithm='elkan', random_state=0)\n",
        "    kmeans.fit(X)\n",
        "    # Adicionar o WCSS ao final da lista wcss\n",
        "    wcss.append(kmeans.inertia_)\n",
        "\n",
        "# Encontrar o número ideal de clusters usando o KneeLocator\n",
        "kneedle = KneeLocator(range(1, 10), wcss, curve='convex', direction='decreasing')\n",
        "num_clusters = kneedle.elbow\n",
        "\n",
        "# Plotar a curva de cotovelo com a linha vertical no número ideal de clusters\n",
        "plt.plot(range(1, 10), wcss)\n",
        "plt.axvline(x=num_clusters, color='red', linestyle='--')\n",
        "plt.title('Curva de Cotovelo')\n",
        "plt.xlabel('Número de Clusters: k')\n",
        "plt.ylabel('Within-Cluster Sum of Square (WCSS)')\n",
        "plt.show()"
      ],
      "metadata": {
        "colab": {
          "base_uri": "https://localhost:8080/",
          "height": 295
        },
        "id": "OZkbMUxJfSJJ",
        "outputId": "ac28b2ef-c612-4605-ead0-cd1fa94cef8f"
      },
      "execution_count": 65,
      "outputs": [
        {
          "output_type": "display_data",
          "data": {
            "text/plain": [
              "<Figure size 432x288 with 1 Axes>"
            ],
            "image/png": "[encoded data removed]"
          },
          "metadata": {
            "needs_background": "light"
          }
        }
      ]
    },
    {
      "cell_type": "code",
      "source": [
        "# source: https://stackoverflow.com/questions/55619176/how-to-cluster-similar-sentences-using-bert\n",
        "\n",
        "clustering_model = KMeans(n_clusters=4)\n",
        "clustering_model.fit(corpus_embeddings)\n",
        "cluster_assignment = clustering_model.labels_\n",
        "\n",
        "\n",
        "print(cluster_assignment)\n"
      ],
      "metadata": {
        "id": "yI1QEXGK5_sH",
        "colab": {
          "base_uri": "https://localhost:8080/"
        },
        "outputId": "5b17fe95-c684-4eec-ac37-cbb32991cdc4"
      },
      "execution_count": 69,
      "outputs": [
        {
          "output_type": "stream",
          "name": "stdout",
          "text": [
            "[1 1 0 1 1 3 3 0 0 0 0 2 2 0 0]\n"
          ]
        }
      ]
    },
    {
      "cell_type": "code",
      "source": [
        "from sklearn.metrics import silhouette_score\n",
        "'''\n",
        "Silhueta é uma métrica de similaridade de cada instância em relação a seu próprio cluster em comparação com outros clusters.\n",
        "Vária de [-1, 1]. 1 --> Instâncias bem agrupadas & -1 --> Agrupamentos fracos.\n",
        "Para Clusterização não-supervisionada.\n",
        "'''\n",
        "\n",
        "silhouette_score = silhouette_score(X, cluster_assignment)\n",
        "\n",
        "print(\"Score Silhueta:\", silhouette_score)"
      ],
      "metadata": {
        "colab": {
          "base_uri": "https://localhost:8080/"
        },
        "id": "lcXmHHpjffMg",
        "outputId": "29bbbefb-27c8-42a9-d57b-835f6eabb1fe"
      },
      "execution_count": 70,
      "outputs": [
        {
          "output_type": "stream",
          "name": "stdout",
          "text": [
            "Score Silhueta: 0.20523378\n"
          ]
        }
      ]
    },
    {
      "cell_type": "code",
      "source": [
        "clustered_sentences = {}\n",
        "for sentence_id, cluster_id in enumerate(cluster_assignment):\n",
        "    if cluster_id not in clustered_sentences:\n",
        "        clustered_sentences[cluster_id] = []\n",
        "\n",
        "    clustered_sentences[cluster_id].append(corpus[sentence_id])\n",
        "    \n",
        "clustered_sentences\n"
      ],
      "metadata": {
        "colab": {
          "base_uri": "https://localhost:8080/"
        },
        "id": "AWRXcPsUFbQ4",
        "outputId": "21d330f7-d955-40fe-c8bc-c5788bb6bb28"
      },
      "execution_count": 71,
      "outputs": [
        {
          "output_type": "execute_result",
          "data": {
            "text/plain": [
              "{1: ['Um homem está comendo comida.',\n",
              "  'Um homem está comendo um pedaço de pão.',\n",
              "  'Um homem está comendo macarrão.',\n",
              "  'Uma mulher está comendo Arroz indiano.'],\n",
              " 0: ['O cavalo está comendo grama.',\n",
              "  'Um homem está montando um cavalo.',\n",
              "  'Um homem está montando um cavalo branco em um terreno fechado.',\n",
              "  'Um macaco está tocando bateria.',\n",
              "  'Alguém fantasiado de gorila está tocando bateria.',\n",
              "  'A chita está perseguindo um homem que está montando o cavalo.',\n",
              "  'Homem e mulher com seu bebê estão assistindo a um guepardo no zoológico.'],\n",
              " 3: ['A menina está carregando um bebê.', 'O bebê é carregado pela mulher.'],\n",
              " 2: ['Uma chita está correndo atrás de sua presa.',\n",
              "  'Uma chita persegue a presa através de um campo.']}"
            ]
          },
          "metadata": {},
          "execution_count": 71
        }
      ]
    },
    {
      "cell_type": "code",
      "source": [
        "!pip install umap-learn"
      ],
      "metadata": {
        "id": "ntw_kVRJZpLr"
      },
      "execution_count": null,
      "outputs": []
    },
    {
      "cell_type": "code",
      "source": [
        "import warnings\n",
        "warnings.filterwarnings(\"ignore\")\n",
        "\n",
        "import matplotlib.pyplot as plt\n",
        "%matplotlib inline\n",
        "\n",
        "\n",
        "import umap\n",
        "\n",
        "# Aplico UMAP a meu Dataset\n",
        "umap_object = umap.UMAP(n_components=2, n_neighbors=30, min_dist=0.001, metric='euclidean', learning_rate=0.001, repulsion_strength=1, random_state=0)\n",
        "umap_embeddings = umap_object.fit_transform(corpus_embeddings)\n",
        "\n",
        "fig, ax = plt.subplots(figsize=(15, 12))\n",
        "scatter = ax.scatter(umap_embeddings[:,0], umap_embeddings[:,1], c = cluster_assignment, cmap=\"Paired\") \n",
        "\n",
        "# Legenda com as cores únicas de nossos clusters\n",
        "legend1 = ax.legend(*scatter.legend_elements(num=3), ncol=10, loc=\"lower left\", title=\"clusters\")\n",
        "ax.add_artist(legend1)\n",
        "ax.set_xticks([])\n",
        "ax.set_yticks([])\n",
        "\n",
        "plt.title(\"Agrupamento por Similaridade Semântica\", fontsize=25, color=\"blue\")\n",
        "plt.show()\n"
      ],
      "metadata": {
        "colab": {
          "base_uri": "https://localhost:8080/",
          "height": 713
        },
        "id": "BRJ36UteTuGF",
        "outputId": "b28d32cb-6fd8-43e3-8799-75333e47f1e7"
      },
      "execution_count": 73,
      "outputs": [
        {
          "output_type": "display_data",
          "data": {
            "text/plain": [
              "<Figure size 1080x864 with 1 Axes>"
            ],
            "image/png": "[encoded data removed]"
          },
          "metadata": {}
        }
      ]
    },
    {
      "cell_type": "code",
      "source": [],
      "metadata": {
        "id": "rQQu6v76XIfS"
      },
      "execution_count": null,
      "outputs": []
    }
  ],
  "metadata": {
    "kernelspec": {
      "display_name": "venv_embeddings",
      "language": "python",
      "name": "python3"
    },
    "language_info": {
      "codemirror_mode": {
        "name": "ipython",
        "version": 3
      },
      "file_extension": ".py",
      "mimetype": "text/x-python",
      "name": "python",
      "nbconvert_exporter": "python",
      "pygments_lexer": "ipython3",
      "version": "3.10.6"
    },
    "orig_nbformat": 4,
    "vscode": {
      "interpreter": {
        "hash": "edf6b0502c5e0317890cf8e032bc40a2d819416c0ad8d6668597893c0d15cade"
      }
    },
    "colab": {
      "provenance": [],
      "machine_shape": "hm"
    },
    "accelerator": "GPU",
    "gpuClass": "standard"
  },
  "nbformat": 4,
  "nbformat_minor": 0
}