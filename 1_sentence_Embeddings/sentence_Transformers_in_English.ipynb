{
  "cells": [
    {
      "cell_type": "markdown",
      "metadata": {
        "id": "ZwNHpRWKu0NM"
      },
      "source": [
        "<h1 align=\"center\">Sentence Transformers: Sentence Embedding, Sentence Similarity, Semantic Search and Clustering |Code</h1>"
      ]
    },
    {
      "cell_type": "markdown",
      "metadata": {
        "id": "9SLg9QqUu0NQ"
      },
      "source": [
        "Data Scientist.: Dr.Eddy Giusepe Chirinos Isidro"
      ]
    },
    {
      "cell_type": "markdown",
      "metadata": {
        "id": "39SWT-9Qu0NQ"
      },
      "source": [
        "Links de estudos:\n",
        "\n",
        "* [semantic-similarity](https://github.com/abhinavthomas/semantic-similarity)\n",
        "\n",
        "* [Sentence Transformers](https://www.youtube.com/watch?v=OlhNZg4gOvA)\n"
      ]
    },
    {
      "cell_type": "markdown",
      "metadata": {
        "id": "rU3L4QORu0NR"
      },
      "source": [
        "# Sentence Embeddings"
      ]
    },
    {
      "cell_type": "markdown",
      "metadata": {
        "id": "rBFcANQIu0NR"
      },
      "source": [
        "<font color=\"orange\">É o nome coletivo para um conjunto de técnicas em processamento de linguagem natural (NLP) onde as sentenças são mapeadas para vetores de números reais .</font>\n",
        "\n",
        "Casos de uso:\n",
        "\n",
        "* Sentence Embedding\n",
        "\n",
        "* Sentence Similarity\n",
        "\n",
        "* Semantic Search\n",
        "\n",
        "* Clustering"
      ]
    },
    {
      "cell_type": "code",
      "source": [
        "from google.colab import drive\n",
        "drive.mount('/content/drive')"
      ],
      "metadata": {
        "colab": {
          "base_uri": "https://localhost:8080/"
        },
        "id": "beATLXK9vRQd",
        "outputId": "3c661101-bc11-40bd-f2c6-0f8513feee2d"
      },
      "execution_count": null,
      "outputs": [
        {
          "output_type": "stream",
          "name": "stdout",
          "text": [
            "Mounted at /content/drive\n"
          ]
        }
      ]
    },
    {
      "cell_type": "markdown",
      "metadata": {
        "id": "dlWZz8fRu0NS"
      },
      "source": [
        "# Gerando Embeddings"
      ]
    },
    {
      "cell_type": "code",
      "source": [
        "!pip install -U sentence-transformers"
      ],
      "metadata": {
        "id": "ljUq2fHkvqds"
      },
      "execution_count": null,
      "outputs": []
    },
    {
      "cell_type": "code",
      "execution_count": null,
      "metadata": {
        "id": "_IxHFbR6u0NS"
      },
      "outputs": [],
      "source": [
        "#!pip install -U sentence-transformers\n",
        "from sentence_transformers import SentenceTransformer, util\n",
        "\n",
        "# Carregamos o Modelo pré-treinado ---> https://huggingface.co/sentence-transformers/all-MiniLM-L6-v2\n",
        "model = SentenceTransformer('all-MiniLM-L6-v2')\n"
      ]
    },
    {
      "cell_type": "code",
      "execution_count": null,
      "metadata": {
        "colab": {
          "base_uri": "https://localhost:8080/"
        },
        "id": "hB_CSplju0NU",
        "outputId": "a361c06a-efc8-4ea5-a2fb-5b5cf60a0c44"
      },
      "outputs": [
        {
          "output_type": "execute_result",
          "data": {
            "text/plain": [
              "SentenceTransformer(\n",
              "  (0): Transformer({'max_seq_length': 256, 'do_lower_case': False}) with Transformer model: BertModel \n",
              "  (1): Pooling({'word_embedding_dimension': 384, 'pooling_mode_cls_token': False, 'pooling_mode_mean_tokens': True, 'pooling_mode_max_tokens': False, 'pooling_mode_mean_sqrt_len_tokens': False})\n",
              "  (2): Normalize()\n",
              ")"
            ]
          },
          "metadata": {},
          "execution_count": 4
        }
      ],
      "source": [
        "model"
      ]
    },
    {
      "cell_type": "code",
      "execution_count": null,
      "metadata": {
        "id": "aP-lOHH2u0NV"
      },
      "outputs": [],
      "source": [
        "sentences = ['This framework generates embeddings for each input sentence',\n",
        "             'Sentences are passed as a list of string.']\n",
        "\n",
        "\n",
        "embeddings = model.encode(sentences)"
      ]
    },
    {
      "cell_type": "code",
      "execution_count": null,
      "metadata": {
        "colab": {
          "base_uri": "https://localhost:8080/"
        },
        "id": "XX3kuLJcu0NV",
        "outputId": "f5abb389-4dfa-432a-d58f-9b47b36014aa"
      },
      "outputs": [
        {
          "output_type": "execute_result",
          "data": {
            "text/plain": [
              "(2, 384)"
            ]
          },
          "metadata": {},
          "execution_count": 6
        }
      ],
      "source": [
        "embeddings.shape"
      ]
    },
    {
      "cell_type": "code",
      "execution_count": null,
      "metadata": {
        "id": "X12jaG3cu0NV"
      },
      "outputs": [],
      "source": [
        "for sentence, embedding in zip(sentences, embeddings):\n",
        "    print(\"Sentence:\", sentence)\n",
        "    print(\"Embedding:\", embedding)\n",
        "    print(\"\")\n"
      ]
    },
    {
      "cell_type": "markdown",
      "metadata": {
        "id": "XznTa-MUu0NW"
      },
      "source": [
        "# Cosine-Similarity"
      ]
    },
    {
      "cell_type": "code",
      "execution_count": null,
      "metadata": {
        "colab": {
          "base_uri": "https://localhost:8080/"
        },
        "id": "rA7_UIB8u0NW",
        "outputId": "9e4ec8fb-15e6-4ac2-a767-b95924db89cc"
      },
      "outputs": [
        {
          "output_type": "stream",
          "name": "stdout",
          "text": [
            "Cosine-Similarity: tensor([[0.5398]])\n"
          ]
        }
      ],
      "source": [
        "emb1 = model.encode(\"I am eating Apple\")\n",
        "emb2 = model.encode(\"I like fruits\")\n",
        "\n",
        "cos_sim = util.cos_sim(emb1, emb2)\n",
        "print(\"Cosine-Similarity:\", cos_sim)"
      ]
    },
    {
      "cell_type": "markdown",
      "metadata": {
        "id": "KU2_ACrJu0NW"
      },
      "source": [
        "## Calcula a `similaridade de cosseno` entre todos os pares"
      ]
    },
    {
      "cell_type": "markdown",
      "metadata": {
        "id": "gvoAykZgu0NW"
      },
      "source": [
        "<font color=\"orange\">Repara que a seguir comparamos as similaridade entre cada sentença. </font>\n",
        "\n",
        "Por exemplo:\n",
        "\n",
        "$[1.0000,  0.7553, -0.1050,  0.2474, -0.0704, -0.0333,  0.1707,  0.0476,\n",
        "          0.0630]$\n",
        "\n",
        "Se compara assim: 1_senteça-1_sentença = 1.0000 | 1_senteça-2_sentença = 0.7553 | 1_senteça-3_sentença = -0.1050 | 1_senteça-4_sentença | ...            "
      ]
    },
    {
      "cell_type": "code",
      "execution_count": null,
      "metadata": {
        "colab": {
          "base_uri": "https://localhost:8080/"
        },
        "id": "H4k_IYHfu0NW",
        "outputId": "7a7a312a-8734-4db0-b354-0d24a09ee62b"
      },
      "outputs": [
        {
          "output_type": "execute_result",
          "data": {
            "text/plain": [
              "tensor([[ 1.0000,  0.7553, -0.1050,  0.2474, -0.0704, -0.0333,  0.1707,  0.0476,\n",
              "          0.0630],\n",
              "        [ 0.7553,  1.0000, -0.0610,  0.1442, -0.0809, -0.0216,  0.1157,  0.0362,\n",
              "          0.0216],\n",
              "        [-0.1050, -0.0610,  1.0000, -0.1088,  0.0217, -0.0413, -0.0928,  0.0231,\n",
              "          0.0247],\n",
              "        [ 0.2474,  0.1442, -0.1088,  1.0000, -0.0348,  0.0362,  0.7369,  0.0821,\n",
              "          0.1389],\n",
              "        [-0.0704, -0.0809,  0.0217, -0.0348,  1.0000, -0.1654, -0.0592,  0.1961,\n",
              "          0.2564],\n",
              "        [-0.0333, -0.0216, -0.0413,  0.0362, -0.1654,  1.0000,  0.0769, -0.0380,\n",
              "         -0.0895],\n",
              "        [ 0.1707,  0.1157, -0.0928,  0.7369, -0.0592,  0.0769,  1.0000,  0.0495,\n",
              "          0.1191],\n",
              "        [ 0.0476,  0.0362,  0.0231,  0.0821,  0.1961, -0.0380,  0.0495,  1.0000,\n",
              "          0.6433],\n",
              "        [ 0.0630,  0.0216,  0.0247,  0.1389,  0.2564, -0.0895,  0.1191,  0.6433,\n",
              "          1.0000]])"
            ]
          },
          "metadata": {},
          "execution_count": 9
        }
      ],
      "source": [
        "# Compute cosine similarity between all pairs\n",
        "sentences = ['A man is eating food.',\n",
        "          'A man is eating a piece of bread.',\n",
        "          'The girl is carrying a baby.',\n",
        "          'A man is riding a horse.',\n",
        "          'A woman is playing violin.',\n",
        "          'Two men pushed carts through the woods.',\n",
        "          'A man is riding a white horse on an enclosed ground.',\n",
        "          'A monkey is playing drums.',\n",
        "          'Someone in a gorilla costume is playing a set of drums.'\n",
        "          ]\n",
        "\n",
        "# Codificamos (Encode) todas as sentences\n",
        "embeddings = model.encode(sentences)\n",
        "\n",
        "# Compute cosine similarity between all pairs\n",
        "cos_sim = util.cos_sim(embeddings, embeddings)\n",
        "\n",
        "cos_sim"
      ]
    },
    {
      "cell_type": "code",
      "execution_count": null,
      "metadata": {
        "colab": {
          "base_uri": "https://localhost:8080/"
        },
        "id": "qIwNM4bXu0NX",
        "outputId": "812d4ae6-7c93-4661-c5c1-86035d50ef3b"
      },
      "outputs": [
        {
          "output_type": "execute_result",
          "data": {
            "text/plain": [
              "[(tensor(0.7553), 0, 1),\n",
              " (tensor(-0.1050), 0, 2),\n",
              " (tensor(0.2474), 0, 3),\n",
              " (tensor(-0.0704), 0, 4),\n",
              " (tensor(-0.0333), 0, 5),\n",
              " (tensor(0.1707), 0, 6),\n",
              " (tensor(0.0476), 0, 7),\n",
              " (tensor(0.0630), 0, 8),\n",
              " (tensor(-0.0610), 1, 2),\n",
              " (tensor(0.1442), 1, 3),\n",
              " (tensor(-0.0809), 1, 4),\n",
              " (tensor(-0.0216), 1, 5),\n",
              " (tensor(0.1157), 1, 6),\n",
              " (tensor(0.0362), 1, 7),\n",
              " (tensor(0.0216), 1, 8),\n",
              " (tensor(-0.1088), 2, 3),\n",
              " (tensor(0.0217), 2, 4),\n",
              " (tensor(-0.0413), 2, 5),\n",
              " (tensor(-0.0928), 2, 6),\n",
              " (tensor(0.0231), 2, 7),\n",
              " (tensor(0.0247), 2, 8),\n",
              " (tensor(-0.0348), 3, 4),\n",
              " (tensor(0.0362), 3, 5),\n",
              " (tensor(0.7369), 3, 6),\n",
              " (tensor(0.0821), 3, 7),\n",
              " (tensor(0.1389), 3, 8),\n",
              " (tensor(-0.1654), 4, 5),\n",
              " (tensor(-0.0592), 4, 6),\n",
              " (tensor(0.1961), 4, 7),\n",
              " (tensor(0.2564), 4, 8),\n",
              " (tensor(0.0769), 5, 6),\n",
              " (tensor(-0.0380), 5, 7),\n",
              " (tensor(-0.0895), 5, 8),\n",
              " (tensor(0.0495), 6, 7),\n",
              " (tensor(0.1191), 6, 8),\n",
              " (tensor(0.6433), 7, 8)]"
            ]
          },
          "metadata": {},
          "execution_count": 10
        }
      ],
      "source": [
        "# Adicionamos todos os pares a uma lista com sua pontuação de similaridade de cosseno\n",
        "all_sentence_combinations = []\n",
        "\n",
        "for i in range(len(cos_sim)-1):\n",
        "    for j in range(i + 1, len(cos_sim)):\n",
        "        all_sentence_combinations.append((cos_sim[i][j], i, j))\n",
        "all_sentence_combinations       \n"
      ]
    },
    {
      "cell_type": "code",
      "execution_count": null,
      "metadata": {
        "colab": {
          "base_uri": "https://localhost:8080/"
        },
        "id": "EVmYmo_Gu0NX",
        "outputId": "e6414ea5-fa3f-4e27-8d25-034e8f9faa54"
      },
      "outputs": [
        {
          "output_type": "stream",
          "name": "stdout",
          "text": [
            "Os 5 pares mais semelhantes: \n",
            "A man is eating food. \t A man is eating a piece of bread. \t 0.7553\n",
            "A man is riding a horse. \t A man is riding a white horse on an enclosed ground. \t 0.7369\n",
            "A monkey is playing drums. \t Someone in a gorilla costume is playing a set of drums. \t 0.6433\n",
            "A woman is playing violin. \t Someone in a gorilla costume is playing a set of drums. \t 0.2564\n",
            "A man is eating food. \t A man is riding a horse. \t 0.2474\n"
          ]
        }
      ],
      "source": [
        "# Lista de classificação pela maior pontuação de similaridade de cosseno\n",
        "all_sentence_combinations = sorted(all_sentence_combinations, key=lambda x: x[0], reverse=True)\n",
        "\n",
        "print(\"Os 5 pares mais semelhantes: \")\n",
        "for score, i, j in all_sentence_combinations[0: 5]:\n",
        "    print(\"{} \\t {} \\t {:.4f}\".format(sentences[i], sentences[j], cos_sim[i][j]))\n",
        "    "
      ]
    },
    {
      "cell_type": "markdown",
      "metadata": {
        "id": "zvevCD-tu0NX"
      },
      "source": [
        "# Pesquisa Semântica"
      ]
    },
    {
      "cell_type": "markdown",
      "metadata": {
        "id": "-XuYQlpMu0NX"
      },
      "source": [
        "<font color=\"orange\">A pesquisa semântica denota a pesquisa com significado, diferente da `pesquisa lexical`, na qual o mecanismo de pesquisa procura correspondências literais das palavras de consulta ou variantes delas, sem entender o significado geral da consulta.</font>\n",
        "\n",
        "\n",
        "\n",
        "Entãop, a `pesquisa semântica` descreve a tentativa de um mecanismo de pesquisa de gerar os resultados SERP (`Search Engine Results Page`) mais precisos possíveis, com base na intenção do pesquisador, no contexto da consulta e na relação entre as palavras . Isso é importante porque: As pessoas dizem coisas e questionam coisas de diferentes maneiras, idiomas e tons."
      ]
    },
    {
      "cell_type": "code",
      "execution_count": null,
      "metadata": {
        "id": "GcfQi9yOu0NX"
      },
      "outputs": [],
      "source": [
        "from sentence_transformers import SentenceTransformer, util\n",
        "\n",
        "model = SentenceTransformer('clips/mfaq') # Modelo pré-treinado do HuggingFace --> https://huggingface.co/clips/mfaq"
      ]
    },
    {
      "cell_type": "markdown",
      "source": [
        "<font color=\"orange\">`MFAQ` é um modelo de recuperação de FAQ multilíngue treinado no conjunto de dados MFAQ , que classifica as respostas dos candidatos de acordo com uma determinada pergunta.</font>\n",
        "\n",
        "\n",
        "<font color=\"orange\">Você pode usar o MFAQ com `Transformers` de sentença ou diretamente com um modelo HuggingFace. Em ambos os casos, as perguntas precisam ser precedidas por `<Q>`, e as respostas por `<A>`.</font>"
      ],
      "metadata": {
        "id": "XnRcFP7Byp6S"
      }
    },
    {
      "cell_type": "code",
      "execution_count": null,
      "metadata": {
        "colab": {
          "base_uri": "https://localhost:8080/"
        },
        "id": "TCFo9mBPu0NY",
        "outputId": "0ca6d0d9-2a3f-4629-be03-38575bdc14a8"
      },
      "outputs": [
        {
          "output_type": "stream",
          "name": "stdout",
          "text": [
            "[[{'corpus_id': 0, 'score': 0.5646326541900635}, {'corpus_id': 2, 'score': 0.5142340660095215}, {'corpus_id': 1, 'score': 0.47300389409065247}]]\n"
          ]
        }
      ],
      "source": [
        "question = \"<Q>How many models can I host on HuggingFace?\"\n",
        "\n",
        "answer_1 = \"<A>All plans come with unlimited private models and datasets.\"\n",
        "answer_2 = \"<A>AutoNLP is an automatic way to train and deploy state-of-the-art NLP models, seamlessly integrated with the Hugging Face ecosystem.\"\n",
        "answer_3 = \"<A>Based on how much training data and model variants are created, we send you a compute cost and payment link - as low as $10 per job.\"\n",
        "\n",
        "\n",
        "query_embedding = model.encode(question)\n",
        "corpus_embeddings = model.encode([answer_1, answer_2, answer_3])\n",
        "\n",
        "\n",
        "print(util.semantic_search(query_embedding, corpus_embeddings))"
      ]
    },
    {
      "cell_type": "markdown",
      "source": [
        "<font color=\"orange\">Outro exemplo a seguir seria obter a resposta em si. Por isso devemos ter bem claro os conceitos de que uma coisa é a pesquisa semântica e outra coisa é encontrar a resposta dentro do texto mesmo (o qual é a resposta mesmo). Vejamos o exemplo a seguir:</font>"
      ],
      "metadata": {
        "id": "-7A7s7uU2ELo"
      }
    },
    {
      "cell_type": "code",
      "execution_count": null,
      "metadata": {
        "colab": {
          "base_uri": "https://localhost:8080/"
        },
        "id": "RelQ94PGu0NY",
        "outputId": "695b5d67-f5f4-41a1-aab5-20e43811e5ee"
      },
      "outputs": [
        {
          "output_type": "stream",
          "name": "stderr",
          "text": [
            "No model was supplied, defaulted to distilbert-base-cased-distilled-squad and revision 626af31 (https://huggingface.co/distilbert-base-cased-distilled-squad).\n",
            "Using a pipeline without specifying a model name and revision in production is not recommended.\n"
          ]
        }
      ],
      "source": [
        "# Ver o seguinte Link do HuggingFace ---> https://huggingface.co/tasks/question-answering\n",
        "\n",
        "from transformers import pipeline\n",
        "\n",
        "\n",
        "qa_model = pipeline(\"question-answering\")\n",
        "\n",
        "question = \"Where do I live?\"\n",
        "context = \"My name is Merve and I live in İstanbul.\"\n"
      ]
    },
    {
      "cell_type": "code",
      "source": [
        "qa_model(question = question, context = context)\n"
      ],
      "metadata": {
        "colab": {
          "base_uri": "https://localhost:8080/"
        },
        "id": "UoE1Y-o23QtQ",
        "outputId": "208e1849-c833-4639-a5bf-f0d2385b6b53"
      },
      "execution_count": null,
      "outputs": [
        {
          "output_type": "execute_result",
          "data": {
            "text/plain": [
              "{'score': 0.9538118243217468, 'start': 31, 'end': 39, 'answer': 'İstanbul'}"
            ]
          },
          "metadata": {},
          "execution_count": 19
        }
      ]
    },
    {
      "cell_type": "markdown",
      "source": [
        "<font color=\"pink\">A pesquisa semântica me ajuda a restringuir muitos docuemtnso e não ter que procurar a resposta em todos os documentos. Vejamos o uso deste `pipeline` aplicado a nosso exemplo anterior:</font>"
      ],
      "metadata": {
        "id": "YUPgMdSo3-Yd"
      }
    },
    {
      "cell_type": "code",
      "source": [
        "from transformers import pipeline\n",
        "\n",
        "\n",
        "qa_model = pipeline(\"question-answering\")\n",
        "\n",
        "\n",
        "question = \"How many models can I host on HuggingFace?\"\n",
        "context = \"All plans come with unlimited private models and datasets.\"\n",
        "\n",
        "\n",
        "qa_model(question = question, context = context)"
      ],
      "metadata": {
        "colab": {
          "base_uri": "https://localhost:8080/"
        },
        "id": "XTqg5KK64aig",
        "outputId": "5869c552-f016-4aa2-904b-5198483d4c03"
      },
      "execution_count": null,
      "outputs": [
        {
          "output_type": "stream",
          "name": "stderr",
          "text": [
            "No model was supplied, defaulted to distilbert-base-cased-distilled-squad and revision 626af31 (https://huggingface.co/distilbert-base-cased-distilled-squad).\n",
            "Using a pipeline without specifying a model name and revision in production is not recommended.\n"
          ]
        },
        {
          "output_type": "execute_result",
          "data": {
            "text/plain": [
              "{'score': 0.7017179131507874, 'start': 20, 'end': 29, 'answer': 'unlimited'}"
            ]
          },
          "metadata": {},
          "execution_count": 20
        }
      ]
    },
    {
      "cell_type": "markdown",
      "source": [
        "# Clustering"
      ],
      "metadata": {
        "id": "RWvcUQRo3l9U"
      }
    },
    {
      "cell_type": "code",
      "source": [
        "from sklearn.cluster import KMeans\n",
        "import numpy as np\n",
        "\n",
        "\n",
        "embedder = SentenceTransformer('all-MiniLM-L6-v2')\n",
        "\n",
        "\n",
        "# Corpus com frases de exemplo\n",
        "corpus = ['A man is eating food.',\n",
        "          'A man is eating a piece of bread.',\n",
        "          'Horse is eating grass.',\n",
        "          'A man is eating pasta.',\n",
        "          'A Woman is eating Biryani.',\n",
        "          'The girl is carrying a baby.',\n",
        "          'The baby is carried by the woman',\n",
        "          'A man is riding a horse.',\n",
        "          'A man is riding a white horse on an enclosed ground.',\n",
        "          'A monkey is playing drums.',\n",
        "          'Someone in a gorilla costume is playing a set of drums.',\n",
        "          'A cheetah is running behind its prey.',\n",
        "          'A cheetah chases prey on across a field.',\n",
        "          'The cheetah is chasing a man who is riding the horse.',\n",
        "          'man and women with their baby are watching cheetah in zoo'\n",
        "          ]\n",
        "\n",
        "\n",
        "corpus_embeddings = embedder.encode(corpus)\n",
        "\n",
        "# Normalize as incorporações para o comprimento da unidade\n",
        "corpus_embeddings = corpus_embeddings /  np.linalg.norm(corpus_embeddings, axis=1, keepdims=True)\n",
        " "
      ],
      "metadata": {
        "id": "1pvEYGq63gjG"
      },
      "execution_count": 105,
      "outputs": []
    },
    {
      "cell_type": "code",
      "source": [
        "len(corpus_embeddings[0])\n"
      ],
      "metadata": {
        "colab": {
          "base_uri": "https://localhost:8080/"
        },
        "id": "BV4CBvLk5xbV",
        "outputId": "55710f2b-9301-46ca-801c-62a05b6407a9"
      },
      "execution_count": 106,
      "outputs": [
        {
          "output_type": "execute_result",
          "data": {
            "text/plain": [
              "384"
            ]
          },
          "metadata": {},
          "execution_count": 106
        }
      ]
    },
    {
      "cell_type": "code",
      "source": [
        "len(corpus_embeddings[1])"
      ],
      "metadata": {
        "colab": {
          "base_uri": "https://localhost:8080/"
        },
        "id": "upi84R5g50h7",
        "outputId": "8449c15b-f9c9-447c-c256-48e4b0cadd96"
      },
      "execution_count": 107,
      "outputs": [
        {
          "output_type": "execute_result",
          "data": {
            "text/plain": [
              "384"
            ]
          },
          "metadata": {},
          "execution_count": 107
        }
      ]
    },
    {
      "cell_type": "code",
      "source": [
        "!pip install kneed"
      ],
      "metadata": {
        "id": "mYJGTDy_fTfo"
      },
      "execution_count": null,
      "outputs": []
    },
    {
      "cell_type": "code",
      "source": [
        "from sklearn.cluster import KMeans\n",
        "import matplotlib.pyplot as plt\n",
        "\n",
        "from kneed import KneeLocator\n",
        "\n",
        "# Seus dados\n",
        "X = corpus_embeddings\n",
        "\n",
        "# Lista para armazenar valores de WCSS para cada k\n",
        "wcss = []\n",
        "\n",
        "# Iterar para diferentes valores de k\n",
        "for k in range(1, 10):\n",
        "    # Ajustar o modelo KMeans com k clusters\n",
        "    kmeans = KMeans(n_clusters=k,  init='k-means++', max_iter=300, tol=1e-4, n_init=30, algorithm='elkan', random_state=0)\n",
        "    kmeans.fit(X)\n",
        "    # Adicionar o WCSS ao final da lista wcss\n",
        "    wcss.append(kmeans.inertia_)\n",
        "\n",
        "# Encontrar o número ideal de clusters usando o KneeLocator\n",
        "kneedle = KneeLocator(range(1, 10), wcss, curve='convex', direction='decreasing')\n",
        "num_clusters = kneedle.elbow\n",
        "\n",
        "# Plotar a curva de cotovelo com a linha vertical no número ideal de clusters\n",
        "plt.plot(range(1, 10), wcss)\n",
        "plt.axvline(x=num_clusters, color='red', linestyle='--')\n",
        "plt.title('Curva de Cotovelo')\n",
        "plt.xlabel('Número de Clusters: k')\n",
        "plt.ylabel('Within-Cluster Sum of Square (WCSS)')\n",
        "plt.show()"
      ],
      "metadata": {
        "colab": {
          "base_uri": "https://localhost:8080/",
          "height": 295
        },
        "id": "OZkbMUxJfSJJ",
        "outputId": "c0f8849a-47f7-4802-d00a-ed2aeb3b840b"
      },
      "execution_count": 108,
      "outputs": [
        {
          "output_type": "display_data",
          "data": {
            "text/plain": [
              "<Figure size 432x288 with 1 Axes>"
            ],
            "image/png": "[encoded data removed]"
          },
          "metadata": {
            "needs_background": "light"
          }
        }
      ]
    },
    {
      "cell_type": "code",
      "source": [
        "# source: https://stackoverflow.com/questions/55619176/how-to-cluster-similar-sentences-using-bert\n",
        "\n",
        "clustering_model = KMeans(n_clusters=5)\n",
        "clustering_model.fit(corpus_embeddings)\n",
        "cluster_assignment = clustering_model.labels_\n",
        "\n",
        "\n",
        "print(cluster_assignment)\n"
      ],
      "metadata": {
        "id": "yI1QEXGK5_sH",
        "colab": {
          "base_uri": "https://localhost:8080/"
        },
        "outputId": "116a57be-44f4-40a1-8997-61de6c8cef15"
      },
      "execution_count": 109,
      "outputs": [
        {
          "output_type": "stream",
          "name": "stdout",
          "text": [
            "[3 3 1 3 3 2 2 1 1 4 4 0 0 0 0]\n"
          ]
        }
      ]
    },
    {
      "cell_type": "code",
      "source": [
        "from sklearn.metrics import silhouette_score\n",
        "'''\n",
        "Silhueta é uma métrica de similaridade de cada instância em relação a seu próprio cluster em comparação com outros clusters.\n",
        "Vária de [-1, 1]. 1 --> Instâncias bem agrupadas & -1 --> Agrupamentos fracos.\n",
        "Para Clusterização não-supervisionada.\n",
        "'''\n",
        "\n",
        "silhouette_score = silhouette_score(X, cluster_assignment)\n",
        "\n",
        "print(\"Score Silhueta:\", silhouette_score)"
      ],
      "metadata": {
        "colab": {
          "base_uri": "https://localhost:8080/"
        },
        "id": "lcXmHHpjffMg",
        "outputId": "78dbd9ba-c8c3-48b9-ccd9-4e41151043de"
      },
      "execution_count": 110,
      "outputs": [
        {
          "output_type": "stream",
          "name": "stdout",
          "text": [
            "Score Silhueta: 0.27678642\n"
          ]
        }
      ]
    },
    {
      "cell_type": "code",
      "source": [
        "clustered_sentences = {}\n",
        "for sentence_id, cluster_id in enumerate(cluster_assignment):\n",
        "    if cluster_id not in clustered_sentences:\n",
        "        clustered_sentences[cluster_id] = []\n",
        "\n",
        "    clustered_sentences[cluster_id].append(corpus[sentence_id])\n",
        "    \n",
        "clustered_sentences\n"
      ],
      "metadata": {
        "colab": {
          "base_uri": "https://localhost:8080/"
        },
        "id": "AWRXcPsUFbQ4",
        "outputId": "881fe633-ecae-41f7-96e7-c5f83112891c"
      },
      "execution_count": 111,
      "outputs": [
        {
          "output_type": "execute_result",
          "data": {
            "text/plain": [
              "{3: ['A man is eating food.',\n",
              "  'A man is eating a piece of bread.',\n",
              "  'A man is eating pasta.',\n",
              "  'A Woman is eating Biryani.'],\n",
              " 1: ['Horse is eating grass.',\n",
              "  'A man is riding a horse.',\n",
              "  'A man is riding a white horse on an enclosed ground.'],\n",
              " 2: ['The girl is carrying a baby.', 'The baby is carried by the woman'],\n",
              " 4: ['A monkey is playing drums.',\n",
              "  'Someone in a gorilla costume is playing a set of drums.'],\n",
              " 0: ['A cheetah is running behind its prey.',\n",
              "  'A cheetah chases prey on across a field.',\n",
              "  'The cheetah is chasing a man who is riding the horse.',\n",
              "  'man and women with their baby are watching cheetah in zoo']}"
            ]
          },
          "metadata": {},
          "execution_count": 111
        }
      ]
    },
    {
      "cell_type": "code",
      "source": [
        "!pip install umap-learn"
      ],
      "metadata": {
        "id": "ntw_kVRJZpLr"
      },
      "execution_count": null,
      "outputs": []
    },
    {
      "cell_type": "code",
      "source": [
        "import warnings\n",
        "warnings.filterwarnings(\"ignore\")\n",
        "\n",
        "import matplotlib.pyplot as plt\n",
        "%matplotlib inline\n",
        "\n",
        "\n",
        "import umap\n",
        "\n",
        "# Aplico UMAP a meu Dataset\n",
        "umap_object = umap.UMAP(n_components=2, n_neighbors=30, min_dist=0.001, metric='euclidean', learning_rate=0.001, repulsion_strength=1, random_state=0)\n",
        "umap_embeddings = umap_object.fit_transform(corpus_embeddings)\n",
        "\n",
        "fig, ax = plt.subplots(figsize=(15, 12))\n",
        "scatter = ax.scatter(umap_embeddings[:,0], umap_embeddings[:,1], c = cluster_assignment, cmap=\"Paired\") \n",
        "\n",
        "# Legenda com as cores únicas de nossos clusters\n",
        "legend1 = ax.legend(*scatter.legend_elements(num=4), ncol=10, loc=\"lower left\", title=\"clusters\")\n",
        "ax.add_artist(legend1)\n",
        "ax.set_xticks([])\n",
        "ax.set_yticks([])\n",
        "\n",
        "plt.title(\"Agrupamento por Similaridade Semântica\", fontsize=25, color=\"blue\")\n",
        "plt.show()"
      ],
      "metadata": {
        "colab": {
          "base_uri": "https://localhost:8080/",
          "height": 713
        },
        "id": "BRJ36UteTuGF",
        "outputId": "3eebfd33-c917-400d-fedf-577a02c7ec3c"
      },
      "execution_count": 117,
      "outputs": [
        {
          "output_type": "display_data",
          "data": {
            "text/plain": [
              "<Figure size 1080x864 with 1 Axes>"
            ],
            "image/png": "[encoded data removed]"
          },
          "metadata": {}
        }
      ]
    },
    {
      "cell_type": "code",
      "source": [],
      "metadata": {
        "id": "rQQu6v76XIfS"
      },
      "execution_count": null,
      "outputs": []
    }
  ],
  "metadata": {
    "kernelspec": {
      "display_name": "venv_embeddings",
      "language": "python",
      "name": "python3"
    },
    "language_info": {
      "codemirror_mode": {
        "name": "ipython",
        "version": 3
      },
      "file_extension": ".py",
      "mimetype": "text/x-python",
      "name": "python",
      "nbconvert_exporter": "python",
      "pygments_lexer": "ipython3",
      "version": "3.10.6"
    },
    "orig_nbformat": 4,
    "vscode": {
      "interpreter": {
        "hash": "edf6b0502c5e0317890cf8e032bc40a2d819416c0ad8d6668597893c0d15cade"
      }
    },
    "colab": {
      "provenance": [],
      "machine_shape": "hm"
    },
    "accelerator": "GPU",
    "gpuClass": "standard"
  },
  "nbformat": 4,
  "nbformat_minor": 0
}